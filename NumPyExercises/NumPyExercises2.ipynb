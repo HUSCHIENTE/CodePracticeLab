{
 "cells": [
  {
   "cell_type": "code",
   "execution_count": 39,
   "id": "initial_id",
   "metadata": {
    "collapsed": true,
    "ExecuteTime": {
     "end_time": "2023-12-05T15:03:40.082358423Z",
     "start_time": "2023-12-05T15:03:40.025223461Z"
    }
   },
   "outputs": [],
   "source": [
    "import numpy as np"
   ]
  },
  {
   "cell_type": "code",
   "execution_count": 40,
   "outputs": [
    {
     "name": "stdout",
     "output_type": "stream",
     "text": [
      "[[1 2 3]\n",
      " [4 5 6]\n",
      " [7 8 9]]\n"
     ]
    }
   ],
   "source": [
    "# 1.多維度數組操作\n",
    "# 創建3x3的數組\n",
    "arr = np.array([[1,2,3],[4,5,6],[7,8,9]])\n",
    "print(arr)"
   ],
   "metadata": {
    "collapsed": false,
    "ExecuteTime": {
     "end_time": "2023-12-05T15:03:40.083175264Z",
     "start_time": "2023-12-05T15:03:40.082187053Z"
    }
   },
   "id": "d1008f152450fd73"
  },
  {
   "cell_type": "code",
   "execution_count": 41,
   "outputs": [
    {
     "name": "stdout",
     "output_type": "stream",
     "text": [
      "[4 5 6]\n"
     ]
    }
   ],
   "source": [
    "# 獲取第二行元素\n",
    "second_row = arr[1,:]\n",
    "print(second_row)"
   ],
   "metadata": {
    "collapsed": false,
    "ExecuteTime": {
     "end_time": "2023-12-05T15:03:40.083695342Z",
     "start_time": "2023-12-05T15:03:40.082439152Z"
    }
   },
   "id": "93cef7e475eb4696"
  },
  {
   "cell_type": "code",
   "execution_count": 43,
   "outputs": [
    {
     "name": "stdout",
     "output_type": "stream",
     "text": [
      "[3 6 9]\n"
     ]
    }
   ],
   "source": [
    "# 獲取第三列元素\n",
    "third_row = arr[:, 2]\n",
    "print(third_row)"
   ],
   "metadata": {
    "collapsed": false,
    "ExecuteTime": {
     "end_time": "2023-12-05T15:04:49.421079077Z",
     "start_time": "2023-12-05T15:04:49.411962772Z"
    }
   },
   "id": "2abc35e4948ada31"
  },
  {
   "cell_type": "code",
   "execution_count": 45,
   "outputs": [
    {
     "name": "stdout",
     "output_type": "stream",
     "text": [
      "[[1 4 7]\n",
      " [2 5 8]\n",
      " [3 6 9]]\n"
     ]
    }
   ],
   "source": [
    "# 轉置數組\n",
    "transposed = arr.T\n",
    "print(transposed)"
   ],
   "metadata": {
    "collapsed": false,
    "ExecuteTime": {
     "end_time": "2023-12-05T15:06:13.382646929Z",
     "start_time": "2023-12-05T15:06:13.376504154Z"
    }
   },
   "id": "a58553e7721e4cd1"
  },
  {
   "cell_type": "code",
   "execution_count": 46,
   "outputs": [
    {
     "name": "stdout",
     "output_type": "stream",
     "text": [
      "[[1 2 3]\n",
      " [2 3 4]\n",
      " [3 4 5]]\n"
     ]
    }
   ],
   "source": [
    "# 2.數組的廣播\n",
    "# 創建兩個不同形狀的數組\n",
    "a = np.array([1,2,3])\n",
    "b = np.array([[0],[1],[2]])\n",
    "# 廣播追加\n",
    "c = a+b\n",
    "print(c)"
   ],
   "metadata": {
    "collapsed": false,
    "ExecuteTime": {
     "end_time": "2023-12-05T15:12:06.889489950Z",
     "start_time": "2023-12-05T15:12:06.802657169Z"
    }
   },
   "id": "7b3885dbe4ed1c47"
  },
  {
   "cell_type": "code",
   "execution_count": 49,
   "outputs": [
    {
     "name": "stdout",
     "output_type": "stream",
     "text": [
      "[[19 22]\n",
      " [43 50]]\n"
     ]
    }
   ],
   "source": [
    "# 3.線性代數的運用\n",
    "# 矩陣乘法\n",
    "x = np.array([[1,2],[3,4]])\n",
    "y = np.array([[5,6],[7,8]])\n",
    "product = np.dot(x,y,)\n",
    "print(product)"
   ],
   "metadata": {
    "collapsed": false,
    "ExecuteTime": {
     "end_time": "2023-12-05T15:15:11.634868126Z",
     "start_time": "2023-12-05T15:15:11.629152207Z"
    }
   },
   "id": "56bc030b54ace4a5"
  },
  {
   "cell_type": "code",
   "execution_count": null,
   "outputs": [],
   "source": [],
   "metadata": {
    "collapsed": false
   },
   "id": "6186d66c5b1e9ba4"
  }
 ],
 "metadata": {
  "kernelspec": {
   "display_name": "Python 3",
   "language": "python",
   "name": "python3"
  },
  "language_info": {
   "codemirror_mode": {
    "name": "ipython",
    "version": 2
   },
   "file_extension": ".py",
   "mimetype": "text/x-python",
   "name": "python",
   "nbconvert_exporter": "python",
   "pygments_lexer": "ipython2",
   "version": "2.7.6"
  }
 },
 "nbformat": 4,
 "nbformat_minor": 5
}
