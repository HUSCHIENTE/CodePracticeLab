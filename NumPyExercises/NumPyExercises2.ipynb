{
 "cells": [
  {
   "cell_type": "code",
   "execution_count": 44,
   "id": "initial_id",
   "metadata": {
    "collapsed": true,
    "ExecuteTime": {
     "end_time": "2023-12-08T17:07:54.193587085Z",
     "start_time": "2023-12-08T17:07:54.129400852Z"
    }
   },
   "outputs": [],
   "source": [
    "import numpy as np"
   ]
  },
  {
   "cell_type": "code",
   "execution_count": 45,
   "outputs": [
    {
     "name": "stdout",
     "output_type": "stream",
     "text": [
      "[[1 2 3]\n",
      " [4 5 6]\n",
      " [7 8 9]]\n"
     ]
    }
   ],
   "source": [
    "# 1.多維度數組操作\n",
    "# 創建3x3的數組\n",
    "arr = np.array([[1,2,3],[4,5,6],[7,8,9]])\n",
    "print(arr)"
   ],
   "metadata": {
    "collapsed": false,
    "ExecuteTime": {
     "end_time": "2023-12-08T17:07:54.207111232Z",
     "start_time": "2023-12-08T17:07:54.139188096Z"
    }
   },
   "id": "d1008f152450fd73"
  },
  {
   "cell_type": "code",
   "execution_count": 46,
   "outputs": [
    {
     "name": "stdout",
     "output_type": "stream",
     "text": [
      "[4 5 6]\n"
     ]
    }
   ],
   "source": [
    "# 獲取第二行元素\n",
    "second_row = arr[1,:]\n",
    "print(second_row)"
   ],
   "metadata": {
    "collapsed": false,
    "ExecuteTime": {
     "end_time": "2023-12-08T17:07:54.207811007Z",
     "start_time": "2023-12-08T17:07:54.185001829Z"
    }
   },
   "id": "93cef7e475eb4696"
  },
  {
   "cell_type": "code",
   "execution_count": 47,
   "outputs": [
    {
     "name": "stdout",
     "output_type": "stream",
     "text": [
      "[3 6 9]\n"
     ]
    }
   ],
   "source": [
    "# 獲取第三列元素\n",
    "third_row = arr[:, 2]\n",
    "print(third_row)"
   ],
   "metadata": {
    "collapsed": false,
    "ExecuteTime": {
     "end_time": "2023-12-08T17:07:54.208540482Z",
     "start_time": "2023-12-08T17:07:54.185310785Z"
    }
   },
   "id": "2abc35e4948ada31"
  },
  {
   "cell_type": "code",
   "execution_count": 48,
   "outputs": [
    {
     "name": "stdout",
     "output_type": "stream",
     "text": [
      "[[1 4 7]\n",
      " [2 5 8]\n",
      " [3 6 9]]\n"
     ]
    }
   ],
   "source": [
    "# 轉置數組\n",
    "transposed = arr.T\n",
    "print(transposed)"
   ],
   "metadata": {
    "collapsed": false,
    "ExecuteTime": {
     "end_time": "2023-12-08T17:07:54.209262210Z",
     "start_time": "2023-12-08T17:07:54.185472564Z"
    }
   },
   "id": "a58553e7721e4cd1"
  },
  {
   "cell_type": "code",
   "execution_count": 49,
   "outputs": [
    {
     "name": "stdout",
     "output_type": "stream",
     "text": [
      "[[1 2 3]\n",
      " [2 3 4]\n",
      " [3 4 5]]\n"
     ]
    }
   ],
   "source": [
    "# 2.數組的廣播\n",
    "# 創建兩個不同形狀的數組\n",
    "a = np.array([1,2,3])\n",
    "b = np.array([[0],[1],[2]])\n",
    "# 廣播追加\n",
    "c = a+b\n",
    "print(c)"
   ],
   "metadata": {
    "collapsed": false,
    "ExecuteTime": {
     "end_time": "2023-12-08T17:07:54.209716517Z",
     "start_time": "2023-12-08T17:07:54.185593380Z"
    }
   },
   "id": "7b3885dbe4ed1c47"
  },
  {
   "cell_type": "code",
   "execution_count": 50,
   "outputs": [
    {
     "name": "stdout",
     "output_type": "stream",
     "text": [
      "[[19 22]\n",
      " [43 50]]\n"
     ]
    }
   ],
   "source": [
    "# 3.線性代數的運用\n",
    "# 矩陣乘法\n",
    "x = np.array([[1,2],\n",
    "              [3,4]])\n",
    "y = np.array([[5,6],\n",
    "              [7,8]])\n",
    "product = np.dot(x,y,)\n",
    "print(product)"
   ],
   "metadata": {
    "collapsed": false,
    "ExecuteTime": {
     "end_time": "2023-12-08T17:07:54.210026153Z",
     "start_time": "2023-12-08T17:07:54.185847183Z"
    }
   },
   "id": "56bc030b54ace4a5"
  },
  {
   "cell_type": "code",
   "execution_count": 51,
   "outputs": [
    {
     "name": "stdout",
     "output_type": "stream",
     "text": [
      "3.0\n"
     ]
    }
   ],
   "source": [
    "# 4.統計分析\n",
    "data = np.array([1,2,3,4,5])\n",
    "# 平均值(Mean)\n",
    "mean = np.mean(data)\n",
    "print(mean)"
   ],
   "metadata": {
    "collapsed": false,
    "ExecuteTime": {
     "end_time": "2023-12-08T17:07:54.216947269Z",
     "start_time": "2023-12-08T17:07:54.198687393Z"
    }
   },
   "id": "bb0a15519b1bf3a7"
  },
  {
   "cell_type": "code",
   "execution_count": 52,
   "outputs": [
    {
     "name": "stdout",
     "output_type": "stream",
     "text": [
      "3.0\n"
     ]
    }
   ],
   "source": [
    "# 中位數(Median)\n",
    "median = np.median(data)\n",
    "print(median)"
   ],
   "metadata": {
    "collapsed": false,
    "ExecuteTime": {
     "end_time": "2023-12-08T17:07:54.343932294Z",
     "start_time": "2023-12-08T17:07:54.246355485Z"
    }
   },
   "id": "16ad3ac0186a0663"
  },
  {
   "cell_type": "code",
   "execution_count": 53,
   "outputs": [
    {
     "name": "stdout",
     "output_type": "stream",
     "text": [
      "1.4142135623730951\n"
     ]
    }
   ],
   "source": [
    "# 標準差(Standard Deviation)\n",
    "standard_deviation = np.std(data)\n",
    "print(standard_deviation)"
   ],
   "metadata": {
    "collapsed": false,
    "ExecuteTime": {
     "end_time": "2023-12-08T17:07:54.344842570Z",
     "start_time": "2023-12-08T17:07:54.274123936Z"
    }
   },
   "id": "5873b93139d3fa1c"
  },
  {
   "cell_type": "code",
   "execution_count": 54,
   "outputs": [
    {
     "name": "stdout",
     "output_type": "stream",
     "text": [
      "[ 1. nan  3.  4.  5.] [1. 3. 4. 5.]\n"
     ]
    }
   ],
   "source": [
    "# 5.數據處理\n",
    "# 處理缺失的數據\n",
    "data_with_nan = np.array([1, np.nan,3 ,4 ,5])\n",
    "clean_data = data_with_nan[~np.isnan(data_with_nan)]\n",
    "print(data_with_nan,clean_data)"
   ],
   "metadata": {
    "collapsed": false,
    "ExecuteTime": {
     "end_time": "2023-12-08T17:07:54.345335964Z",
     "start_time": "2023-12-08T17:07:54.274261193Z"
    }
   },
   "id": "df979f9fa2ad53c9"
  },
  {
   "cell_type": "code",
   "execution_count": 55,
   "outputs": [
    {
     "name": "stdout",
     "output_type": "stream",
     "text": [
      "[1 2 3 4 5]\n"
     ]
    }
   ],
   "source": [
    "# 數組排序\n",
    "unsorted = np.array([1,4,3,2,5])\n",
    "sorted_arr = np.sort(unsorted)\n",
    "print(sorted_arr)"
   ],
   "metadata": {
    "collapsed": false,
    "ExecuteTime": {
     "end_time": "2023-12-08T17:07:54.362581275Z",
     "start_time": "2023-12-08T17:07:54.342788143Z"
    }
   },
   "id": "f4a59f57953cceab"
  },
  {
   "cell_type": "code",
   "execution_count": 56,
   "outputs": [
    {
     "name": "stdout",
     "output_type": "stream",
     "text": [
      "[[ 1  4  9]\n",
      " [16 25 36]]\n"
     ]
    }
   ],
   "source": [
    "# 6.自定義函數與apply_along_axis\n",
    "def my_func(x):\n",
    "    return x * x\n",
    "arr = np.array([[1,2,3],[4,5,6]])\n",
    "result = np.apply_along_axis(my_func, 0, arr)\n",
    "print(result)"
   ],
   "metadata": {
    "collapsed": false,
    "ExecuteTime": {
     "end_time": "2023-12-08T17:07:54.450300467Z",
     "start_time": "2023-12-08T17:07:54.363897030Z"
    }
   },
   "id": "70439e7a7ff3cf18"
  },
  {
   "cell_type": "code",
   "execution_count": 57,
   "outputs": [
    {
     "name": "stdout",
     "output_type": "stream",
     "text": [
      "[[ 1  4  9]\n",
      " [16 25 36]]\n"
     ]
    }
   ],
   "source": [
    "result = np.apply_along_axis(my_func, 0, arr)\n",
    "print(result)"
   ],
   "metadata": {
    "collapsed": false,
    "ExecuteTime": {
     "end_time": "2023-12-08T17:07:54.475349271Z",
     "start_time": "2023-12-08T17:07:54.372340601Z"
    }
   },
   "id": "a68d1da162b434d7"
  },
  {
   "cell_type": "code",
   "execution_count": 58,
   "outputs": [
    {
     "name": "stdout",
     "output_type": "stream",
     "text": [
      "[ 6 15]\n"
     ]
    }
   ],
   "source": [
    "def my_func(x):\n",
    "    return np.sum(x)\n",
    "result = np.apply_along_axis(my_func, 1, arr)\n",
    "print(result)"
   ],
   "metadata": {
    "collapsed": false,
    "ExecuteTime": {
     "end_time": "2023-12-08T17:07:54.475787143Z",
     "start_time": "2023-12-08T17:07:54.414266890Z"
    }
   },
   "id": "e7a4c8a67e066409"
  },
  {
   "cell_type": "code",
   "execution_count": 59,
   "outputs": [
    {
     "name": "stdout",
     "output_type": "stream",
     "text": [
      "[4 5 6]\n"
     ]
    }
   ],
   "source": [
    "def my_func(x):\n",
    "    return np.max(x)\n",
    "result = np.apply_along_axis(my_func, 0, arr)\n",
    "print(result)"
   ],
   "metadata": {
    "collapsed": false,
    "ExecuteTime": {
     "end_time": "2023-12-08T17:07:54.522373166Z",
     "start_time": "2023-12-08T17:07:54.456960210Z"
    }
   },
   "id": "d3544c7816054dba"
  }
 ],
 "metadata": {
  "kernelspec": {
   "display_name": "Python 3",
   "language": "python",
   "name": "python3"
  },
  "language_info": {
   "codemirror_mode": {
    "name": "ipython",
    "version": 2
   },
   "file_extension": ".py",
   "mimetype": "text/x-python",
   "name": "python",
   "nbconvert_exporter": "python",
   "pygments_lexer": "ipython2",
   "version": "2.7.6"
  }
 },
 "nbformat": 4,
 "nbformat_minor": 5
}
