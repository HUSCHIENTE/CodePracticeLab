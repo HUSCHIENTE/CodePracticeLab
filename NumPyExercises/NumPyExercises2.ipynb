{
 "cells": [
  {
   "cell_type": "code",
   "execution_count": 19,
   "id": "initial_id",
   "metadata": {
    "collapsed": true,
    "ExecuteTime": {
     "end_time": "2023-12-08T14:30:24.937105215Z",
     "start_time": "2023-12-08T14:30:24.925630392Z"
    }
   },
   "outputs": [],
   "source": [
    "import numpy as np"
   ]
  },
  {
   "cell_type": "code",
   "execution_count": 20,
   "outputs": [
    {
     "name": "stdout",
     "output_type": "stream",
     "text": [
      "[[1 2 3]\n",
      " [4 5 6]\n",
      " [7 8 9]]\n"
     ]
    }
   ],
   "source": [
    "# 1.多維度數組操作\n",
    "# 創建3x3的數組\n",
    "arr = np.array([[1,2,3],[4,5,6],[7,8,9]])\n",
    "print(arr)"
   ],
   "metadata": {
    "collapsed": false,
    "ExecuteTime": {
     "end_time": "2023-12-08T14:30:24.987652057Z",
     "start_time": "2023-12-08T14:30:24.937604212Z"
    }
   },
   "id": "d1008f152450fd73"
  },
  {
   "cell_type": "code",
   "execution_count": 21,
   "outputs": [
    {
     "name": "stdout",
     "output_type": "stream",
     "text": [
      "[4 5 6]\n"
     ]
    }
   ],
   "source": [
    "# 獲取第二行元素\n",
    "second_row = arr[1,:]\n",
    "print(second_row)"
   ],
   "metadata": {
    "collapsed": false,
    "ExecuteTime": {
     "end_time": "2023-12-08T14:30:24.988349775Z",
     "start_time": "2023-12-08T14:30:24.984809662Z"
    }
   },
   "id": "93cef7e475eb4696"
  },
  {
   "cell_type": "code",
   "execution_count": 22,
   "outputs": [
    {
     "name": "stdout",
     "output_type": "stream",
     "text": [
      "[3 6 9]\n"
     ]
    }
   ],
   "source": [
    "# 獲取第三列元素\n",
    "third_row = arr[:, 2]\n",
    "print(third_row)"
   ],
   "metadata": {
    "collapsed": false,
    "ExecuteTime": {
     "end_time": "2023-12-08T14:30:24.988809895Z",
     "start_time": "2023-12-08T14:30:24.985057047Z"
    }
   },
   "id": "2abc35e4948ada31"
  },
  {
   "cell_type": "code",
   "execution_count": 23,
   "outputs": [
    {
     "name": "stdout",
     "output_type": "stream",
     "text": [
      "[[1 4 7]\n",
      " [2 5 8]\n",
      " [3 6 9]]\n"
     ]
    }
   ],
   "source": [
    "# 轉置數組\n",
    "transposed = arr.T\n",
    "print(transposed)"
   ],
   "metadata": {
    "collapsed": false,
    "ExecuteTime": {
     "end_time": "2023-12-08T14:30:25.000423376Z",
     "start_time": "2023-12-08T14:30:24.992061709Z"
    }
   },
   "id": "a58553e7721e4cd1"
  },
  {
   "cell_type": "code",
   "execution_count": 24,
   "outputs": [
    {
     "name": "stdout",
     "output_type": "stream",
     "text": [
      "[[1 2 3]\n",
      " [2 3 4]\n",
      " [3 4 5]]\n"
     ]
    }
   ],
   "source": [
    "# 2.數組的廣播\n",
    "# 創建兩個不同形狀的數組\n",
    "a = np.array([1,2,3])\n",
    "b = np.array([[0],[1],[2]])\n",
    "# 廣播追加\n",
    "c = a+b\n",
    "print(c)"
   ],
   "metadata": {
    "collapsed": false,
    "ExecuteTime": {
     "end_time": "2023-12-08T14:30:25.076884619Z",
     "start_time": "2023-12-08T14:30:25.000115491Z"
    }
   },
   "id": "7b3885dbe4ed1c47"
  },
  {
   "cell_type": "code",
   "execution_count": 25,
   "outputs": [
    {
     "name": "stdout",
     "output_type": "stream",
     "text": [
      "[[19 22]\n",
      " [43 50]]\n"
     ]
    }
   ],
   "source": [
    "# 3.線性代數的運用\n",
    "# 矩陣乘法\n",
    "x = np.array([[1,2],\n",
    "              [3,4]])\n",
    "y = np.array([[5,6],\n",
    "              [7,8]])\n",
    "product = np.dot(x,y,)\n",
    "print(product)"
   ],
   "metadata": {
    "collapsed": false,
    "ExecuteTime": {
     "end_time": "2023-12-08T14:30:25.077600302Z",
     "start_time": "2023-12-08T14:30:25.044303927Z"
    }
   },
   "id": "56bc030b54ace4a5"
  },
  {
   "cell_type": "code",
   "execution_count": 26,
   "outputs": [
    {
     "name": "stdout",
     "output_type": "stream",
     "text": [
      "3.0\n"
     ]
    }
   ],
   "source": [
    "# 4.統計分析\n",
    "data = np.array([1,2,3,4,5])\n",
    "# 平均值(Mean)\n",
    "mean = np.mean(data)\n",
    "print(mean)"
   ],
   "metadata": {
    "collapsed": false,
    "ExecuteTime": {
     "end_time": "2023-12-08T14:30:25.078143170Z",
     "start_time": "2023-12-08T14:30:25.044663926Z"
    }
   },
   "id": "bb0a15519b1bf3a7"
  },
  {
   "cell_type": "code",
   "execution_count": 31,
   "outputs": [
    {
     "name": "stdout",
     "output_type": "stream",
     "text": [
      "3.0\n"
     ]
    }
   ],
   "source": [
    "# 中位數(Median)\n",
    "median = np.median(data)\n",
    "print(median)"
   ],
   "metadata": {
    "collapsed": false,
    "ExecuteTime": {
     "end_time": "2023-12-08T14:44:33.215966043Z",
     "start_time": "2023-12-08T14:44:33.210678215Z"
    }
   },
   "id": "16ad3ac0186a0663"
  },
  {
   "cell_type": "code",
   "execution_count": 30,
   "outputs": [
    {
     "name": "stdout",
     "output_type": "stream",
     "text": [
      "1.4142135623730951\n"
     ]
    }
   ],
   "source": [
    "# 標準差(Standard Deviation)\n",
    "standard_deviation = np.std(data)\n",
    "print(standard_deviation)"
   ],
   "metadata": {
    "collapsed": false,
    "ExecuteTime": {
     "end_time": "2023-12-08T14:44:30.259741766Z",
     "start_time": "2023-12-08T14:44:30.253763542Z"
    }
   },
   "id": "5873b93139d3fa1c"
  },
  {
   "cell_type": "code",
   "execution_count": 33,
   "outputs": [
    {
     "name": "stdout",
     "output_type": "stream",
     "text": [
      "[ 1. nan  3.  4.  5.] [1. 3. 4. 5.]\n"
     ]
    }
   ],
   "source": [
    "# 5.數據處理\n",
    "# 處理缺失的數據\n",
    "data_with_nan = np.array([1, np.nan,3 ,4 ,5])\n",
    "clean_data = data_with_nan[~np.isnan(data_with_nan)]\n",
    "print(data_with_nan,clean_data)"
   ],
   "metadata": {
    "collapsed": false,
    "ExecuteTime": {
     "end_time": "2023-12-08T14:59:29.304885636Z",
     "start_time": "2023-12-08T14:59:29.247502016Z"
    }
   },
   "id": "df979f9fa2ad53c9"
  },
  {
   "cell_type": "code",
   "execution_count": 34,
   "outputs": [
    {
     "name": "stdout",
     "output_type": "stream",
     "text": [
      "[1 2 3 4 5]\n"
     ]
    }
   ],
   "source": [
    "# 數組排序\n",
    "unsorted = np.array([1,4,3,2,5])\n",
    "sorted_arr = np.sort(unsorted)\n",
    "print(sorted_arr)"
   ],
   "metadata": {
    "collapsed": false,
    "ExecuteTime": {
     "end_time": "2023-12-08T15:01:01.320433947Z",
     "start_time": "2023-12-08T15:01:01.310631096Z"
    }
   },
   "id": "f4a59f57953cceab"
  },
  {
   "cell_type": "code",
   "execution_count": 37,
   "outputs": [
    {
     "name": "stdout",
     "output_type": "stream",
     "text": [
      "[[ 1  4  9]\n",
      " [16 25 36]]\n"
     ]
    }
   ],
   "source": [
    "# 6.自定義函數與apply_along_axis\n",
    "def my_func(x):\n",
    "    return x * x\n",
    "arr = np.array([[1,2,3],[4,5,6]])\n",
    "result = np.apply_along_axis(my_func, 0, arr)\n",
    "print(result)"
   ],
   "metadata": {
    "collapsed": false,
    "ExecuteTime": {
     "end_time": "2023-12-08T15:09:49.644763136Z",
     "start_time": "2023-12-08T15:09:49.600629346Z"
    }
   },
   "id": "70439e7a7ff3cf18"
  },
  {
   "cell_type": "code",
   "execution_count": 38,
   "outputs": [
    {
     "name": "stdout",
     "output_type": "stream",
     "text": [
      "[[ 1  4  9]\n",
      " [16 25 36]]\n"
     ]
    }
   ],
   "source": [
    "result = np.apply_along_axis(my_func, 1, arr)\n",
    "print(result)"
   ],
   "metadata": {
    "collapsed": false,
    "ExecuteTime": {
     "end_time": "2023-12-08T15:10:18.004683570Z",
     "start_time": "2023-12-08T15:10:17.951558797Z"
    }
   },
   "id": "a68d1da162b434d7"
  }
 ],
 "metadata": {
  "kernelspec": {
   "display_name": "Python 3",
   "language": "python",
   "name": "python3"
  },
  "language_info": {
   "codemirror_mode": {
    "name": "ipython",
    "version": 2
   },
   "file_extension": ".py",
   "mimetype": "text/x-python",
   "name": "python",
   "nbconvert_exporter": "python",
   "pygments_lexer": "ipython2",
   "version": "2.7.6"
  }
 },
 "nbformat": 4,
 "nbformat_minor": 5
}
