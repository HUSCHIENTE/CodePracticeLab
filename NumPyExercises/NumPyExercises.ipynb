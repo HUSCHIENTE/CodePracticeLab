{
 "cells": [
  {
   "cell_type": "code",
   "execution_count": 57,
   "outputs": [],
   "source": [
    "import numpy as np"
   ],
   "metadata": {
    "collapsed": false,
    "ExecuteTime": {
     "end_time": "2023-12-05T12:48:45.502691909Z",
     "start_time": "2023-12-05T12:48:45.492291568Z"
    }
   },
   "id": "cd91377191864462"
  },
  {
   "cell_type": "code",
   "execution_count": 58,
   "outputs": [
    {
     "name": "stdout",
     "output_type": "stream",
     "text": [
      "[1 2 3 4 5]\n"
     ]
    }
   ],
   "source": [
    "# 1.創建數組\n",
    "arr = np.array([1,2,3,4,5])\n",
    "print(arr)"
   ],
   "metadata": {
    "collapsed": false,
    "ExecuteTime": {
     "end_time": "2023-12-05T12:48:45.589470753Z",
     "start_time": "2023-12-05T12:48:45.503543508Z"
    }
   },
   "id": "46fac5a47a97575f"
  },
  {
   "cell_type": "code",
   "execution_count": 59,
   "outputs": [
    {
     "name": "stdout",
     "output_type": "stream",
     "text": [
      "原始:[1 2 3 4 5]\n",
      "+2:[3 4 5 6 7]\n",
      "*2:[ 2  4  6  8 10]\n"
     ]
    }
   ],
   "source": [
    "# 2.數組操作\n",
    "print(f'原始:{arr}\\n'\n",
    "      f'+2:{arr+2}\\n'\n",
    "      f'*2:{arr*2}')"
   ],
   "metadata": {
    "collapsed": false,
    "ExecuteTime": {
     "end_time": "2023-12-05T12:48:45.590011911Z",
     "start_time": "2023-12-05T12:48:45.552085849Z"
    }
   },
   "id": "ecce218e34ec3b28"
  },
  {
   "cell_type": "code",
   "execution_count": 60,
   "outputs": [
    {
     "name": "stdout",
     "output_type": "stream",
     "text": [
      "[[1 2 3]\n",
      " [4 5 6]]\n"
     ]
    }
   ],
   "source": [
    "# 3.多維數組\n",
    "arr_2d = np.array([[1,2,3],[4,5,6]])\n",
    "print(arr_2d)"
   ],
   "metadata": {
    "collapsed": false,
    "ExecuteTime": {
     "end_time": "2023-12-05T12:48:45.590313786Z",
     "start_time": "2023-12-05T12:48:45.552317432Z"
    }
   },
   "id": "2f16997f7fa66e57"
  },
  {
   "cell_type": "code",
   "execution_count": 61,
   "outputs": [
    {
     "name": "stdout",
     "output_type": "stream",
     "text": [
      "1\n",
      "[2 3]\n"
     ]
    }
   ],
   "source": [
    "# 4.數組索引和切片\n",
    "print(arr[0]) #取得第一個元素\n",
    "print(arr[1:3]) #取得第二到第三個元素(list)"
   ],
   "metadata": {
    "collapsed": false,
    "ExecuteTime": {
     "end_time": "2023-12-05T12:48:45.682885623Z",
     "start_time": "2023-12-05T12:48:45.581079548Z"
    }
   },
   "id": "9154d0fb4eb34d27"
  },
  {
   "cell_type": "code",
   "execution_count": 62,
   "outputs": [
    {
     "name": "stdout",
     "output_type": "stream",
     "text": [
      "15\n",
      "3.0\n"
     ]
    }
   ],
   "source": [
    "# 5.數組函數\n",
    "print(np.sum(arr)) #數組求和\n",
    "print(np.mean(arr)) #數組球平均"
   ],
   "metadata": {
    "collapsed": false,
    "ExecuteTime": {
     "end_time": "2023-12-05T12:50:20.950443084Z",
     "start_time": "2023-12-05T12:50:20.903544904Z"
    }
   },
   "id": "90879d18808a2b90"
  },
  {
   "cell_type": "code",
   "execution_count": null,
   "outputs": [],
   "source": [],
   "metadata": {
    "collapsed": false
   },
   "id": "b90c4b931d212c6b"
  }
 ],
 "metadata": {
  "kernelspec": {
   "display_name": "Python 3",
   "language": "python",
   "name": "python3"
  },
  "language_info": {
   "codemirror_mode": {
    "name": "ipython",
    "version": 2
   },
   "file_extension": ".py",
   "mimetype": "text/x-python",
   "name": "python",
   "nbconvert_exporter": "python",
   "pygments_lexer": "ipython2",
   "version": "2.7.6"
  }
 },
 "nbformat": 4,
 "nbformat_minor": 5
}
