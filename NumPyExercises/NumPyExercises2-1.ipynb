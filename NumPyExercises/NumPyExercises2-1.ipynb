{
 "cells": [
  {
   "cell_type": "code",
   "execution_count": 6,
   "outputs": [
    {
     "name": "stdout",
     "output_type": "stream",
     "text": [
      "[4 5 6]\n"
     ]
    }
   ],
   "source": [
    "import numpy as np\n",
    "# 行與列之間的釐清\n",
    "# 範例1-計算最大值\n",
    "def max_value(x):\n",
    "    return np.max(x)\n",
    "# 二維數組\n",
    "arr = np.array([[1,2,3],[4,5,6]])"
   ],
   "metadata": {
    "collapsed": false
   },
   "id": "initial_id"
  },
  {
   "cell_type": "code",
   "execution_count": 7,
   "outputs": [
    {
     "name": "stdout",
     "output_type": "stream",
     "text": [
      "[4 5 6]\n"
     ]
    }
   ],
   "source": [
    "# 應用函數\n",
    "max_in_columns = np.apply_along_axis(max_value, 0, arr) #計算每一列最大值\n",
    "print(max_in_columns)"
   ],
   "metadata": {
    "collapsed": false,
    "ExecuteTime": {
     "end_time": "2023-12-14T20:37:51.395904675Z",
     "start_time": "2023-12-14T20:37:51.385346458Z"
    }
   },
   "id": "9545f189893e8999"
  },
  {
   "cell_type": "code",
   "execution_count": 8,
   "outputs": [
    {
     "name": "stdout",
     "output_type": "stream",
     "text": [
      "[3 6]\n"
     ]
    }
   ],
   "source": [
    "max_in_rows = np.apply_along_axis(max_value, 1, arr) #計算每一行最大值\n",
    "print(max_in_rows)"
   ],
   "metadata": {
    "collapsed": false,
    "ExecuteTime": {
     "end_time": "2023-12-14T20:38:23.349069611Z",
     "start_time": "2023-12-14T20:38:23.342828880Z"
    }
   },
   "id": "40e5397e4cbcf125"
  },
  {
   "cell_type": "code",
   "execution_count": 9,
   "outputs": [],
   "source": [
    "# 範例2-計算範圍(最大值-最小值)\n",
    "# 自定義函數\n",
    "def range_value(x):\n",
    "    return np.max(x) - np.min(x)"
   ],
   "metadata": {
    "collapsed": false,
    "ExecuteTime": {
     "end_time": "2023-12-14T20:41:36.887017501Z",
     "start_time": "2023-12-14T20:41:36.774235116Z"
    }
   },
   "id": "bb04775675c90756"
  },
  {
   "cell_type": "code",
   "execution_count": 11,
   "outputs": [
    {
     "name": "stdout",
     "output_type": "stream",
     "text": [
      "[3 3 3]\n"
     ]
    }
   ],
   "source": [
    "# 應用函數\n",
    "range_in_columns = np.apply_along_axis(range_value, 0, arr)\n",
    "print(range_in_columns)"
   ],
   "metadata": {
    "collapsed": false,
    "ExecuteTime": {
     "end_time": "2023-12-14T20:43:21.633542268Z",
     "start_time": "2023-12-14T20:43:21.628745046Z"
    }
   },
   "id": "12fb1ec0c39d4d81"
  },
  {
   "cell_type": "code",
   "execution_count": 12,
   "outputs": [
    {
     "name": "stdout",
     "output_type": "stream",
     "text": [
      "[2 2]\n"
     ]
    }
   ],
   "source": [
    "range_in_rows = np.apply_along_axis(range_value, 1, arr)\n",
    "print(range_in_rows)"
   ],
   "metadata": {
    "collapsed": false,
    "ExecuteTime": {
     "end_time": "2023-12-14T20:43:57.690566077Z",
     "start_time": "2023-12-14T20:43:57.630241511Z"
    }
   },
   "id": "994dff811e33d07d"
  }
 ],
 "metadata": {
  "kernelspec": {
   "display_name": "Python 3",
   "language": "python",
   "name": "python3"
  },
  "language_info": {
   "codemirror_mode": {
    "name": "ipython",
    "version": 2
   },
   "file_extension": ".py",
   "mimetype": "text/x-python",
   "name": "python",
   "nbconvert_exporter": "python",
   "pygments_lexer": "ipython2",
   "version": "2.7.6"
  }
 },
 "nbformat": 4,
 "nbformat_minor": 5
}
